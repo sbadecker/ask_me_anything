{
 "cells": [
  {
   "cell_type": "code",
   "execution_count": 1,
   "id": "operational-hearing",
   "metadata": {},
   "outputs": [],
   "source": [
    "%config Completer.use_jedi = False"
   ]
  },
  {
   "cell_type": "code",
   "execution_count": 13,
   "id": "pressing-bachelor",
   "metadata": {},
   "outputs": [],
   "source": [
    "from os import path\n",
    "import pandas as pd"
   ]
  },
  {
   "cell_type": "code",
   "execution_count": 50,
   "id": "impressed-mercy",
   "metadata": {},
   "outputs": [],
   "source": [
    "from twitter_requests import TwitterApi\n",
    "from utils import load_json, save_json"
   ]
  },
  {
   "cell_type": "markdown",
   "id": "lesbian-mileage",
   "metadata": {},
   "source": [
    "# Load data"
   ]
  },
  {
   "cell_type": "code",
   "execution_count": 15,
   "id": "focal-cooler",
   "metadata": {},
   "outputs": [],
   "source": [
    "twitter_api = TwitterApi()"
   ]
  },
  {
   "cell_type": "code",
   "execution_count": 93,
   "id": "strange-cincinnati",
   "metadata": {},
   "outputs": [
    {
     "data": {
      "text/html": [
       "<div>\n",
       "<style scoped>\n",
       "    .dataframe tbody tr th:only-of-type {\n",
       "        vertical-align: middle;\n",
       "    }\n",
       "\n",
       "    .dataframe tbody tr th {\n",
       "        vertical-align: top;\n",
       "    }\n",
       "\n",
       "    .dataframe thead th {\n",
       "        text-align: right;\n",
       "    }\n",
       "</style>\n",
       "<table border=\"1\" class=\"dataframe\">\n",
       "  <thead>\n",
       "    <tr style=\"text-align: right;\">\n",
       "      <th></th>\n",
       "      <th>full_name</th>\n",
       "      <th>party</th>\n",
       "      <th>twitter_name</th>\n",
       "      <th>twitter_id</th>\n",
       "    </tr>\n",
       "  </thead>\n",
       "  <tbody>\n",
       "    <tr>\n",
       "      <th>0</th>\n",
       "      <td>Armin Laschet</td>\n",
       "      <td>CDU</td>\n",
       "      <td>arminlaschet</td>\n",
       "      <td>835541664</td>\n",
       "    </tr>\n",
       "    <tr>\n",
       "      <th>1</th>\n",
       "      <td>Robert Habeck</td>\n",
       "      <td>Grüne</td>\n",
       "      <td>therealhabeck</td>\n",
       "      <td>1082604599662522371</td>\n",
       "    </tr>\n",
       "    <tr>\n",
       "      <th>2</th>\n",
       "      <td>Olaf Scholz</td>\n",
       "      <td>SPD</td>\n",
       "      <td>OlafScholz</td>\n",
       "      <td>38150247</td>\n",
       "    </tr>\n",
       "    <tr>\n",
       "      <th>3</th>\n",
       "      <td>Christian Lindner</td>\n",
       "      <td>FDP</td>\n",
       "      <td>c_lindner</td>\n",
       "      <td>122104353</td>\n",
       "    </tr>\n",
       "    <tr>\n",
       "      <th>4</th>\n",
       "      <td>Sarah Wagenknecht</td>\n",
       "      <td>Linke</td>\n",
       "      <td>SWagenknecht</td>\n",
       "      <td>47375691</td>\n",
       "    </tr>\n",
       "    <tr>\n",
       "      <th>5</th>\n",
       "      <td>Alice Weidel</td>\n",
       "      <td>AfD</td>\n",
       "      <td>Alice_Weidel</td>\n",
       "      <td>833398209053605888</td>\n",
       "    </tr>\n",
       "    <tr>\n",
       "      <th>6</th>\n",
       "      <td>Markus Söder</td>\n",
       "      <td>CDU</td>\n",
       "      <td>markus_soeder</td>\n",
       "      <td>793778228</td>\n",
       "    </tr>\n",
       "  </tbody>\n",
       "</table>\n",
       "</div>"
      ],
      "text/plain": [
       "           full_name  party   twitter_name           twitter_id\n",
       "0      Armin Laschet    CDU   arminlaschet            835541664\n",
       "1      Robert Habeck  Grüne  therealhabeck  1082604599662522371\n",
       "2        Olaf Scholz    SPD     OlafScholz             38150247\n",
       "3  Christian Lindner    FDP      c_lindner            122104353\n",
       "4  Sarah Wagenknecht  Linke   SWagenknecht             47375691\n",
       "5       Alice Weidel    AfD   Alice_Weidel   833398209053605888\n",
       "6       Markus Söder    CDU  markus_soeder            793778228"
      ]
     },
     "execution_count": 93,
     "metadata": {},
     "output_type": "execute_result"
    }
   ],
   "source": [
    "candidates_df"
   ]
  },
  {
   "cell_type": "code",
   "execution_count": 45,
   "id": "wireless-escape",
   "metadata": {},
   "outputs": [],
   "source": [
    "candidates_df = pd.read_csv(\"data/candidates.csv\")"
   ]
  },
  {
   "cell_type": "code",
   "execution_count": 31,
   "id": "comprehensive-breed",
   "metadata": {},
   "outputs": [],
   "source": [
    "for i, row in candidates_df.ita:\n",
    "    print(row.full_name)\n",
    "    twitter_api.build_user_dataset(row.twitter_name, data_dir=\"data/twitter_data\")\n",
    "    print()"
   ]
  },
  {
   "cell_type": "markdown",
   "id": "quiet-observation",
   "metadata": {},
   "source": [
    "# Create dataset"
   ]
  },
  {
   "cell_type": "code",
   "execution_count": 96,
   "id": "pending-inside",
   "metadata": {},
   "outputs": [],
   "source": [
    "from glob import glob"
   ]
  },
  {
   "cell_type": "code",
   "execution_count": 97,
   "id": "classified-proposition",
   "metadata": {},
   "outputs": [],
   "source": [
    "twitter_files = glob(\"data/twitter_data/*.json\")"
   ]
  },
  {
   "cell_type": "code",
   "execution_count": 98,
   "id": "muslim-tribute",
   "metadata": {},
   "outputs": [],
   "source": [
    "twitter_data = []\n",
    "\n",
    "for filepath in twitter_files:\n",
    "    twitter_data.extend(load_json(filepath))"
   ]
  },
  {
   "cell_type": "code",
   "execution_count": 99,
   "id": "damaged-ghana",
   "metadata": {},
   "outputs": [],
   "source": [
    "twitter_df = pd.DataFrame(twitter_data)"
   ]
  },
  {
   "cell_type": "code",
   "execution_count": 100,
   "id": "cathedral-heater",
   "metadata": {},
   "outputs": [],
   "source": [
    "twitter_df[\"author_id\"] = pd.to_numeric(twitter_df.author_id)"
   ]
  },
  {
   "cell_type": "code",
   "execution_count": 101,
   "id": "promotional-british",
   "metadata": {},
   "outputs": [],
   "source": [
    "twitter_df = pd.merge(\n",
    "    left=twitter_df,\n",
    "    right=candidates_df.rename(columns={\"twitter_id\": \"author_id\"}),\n",
    "    on=\"author_id\",\n",
    "    how=\"inner\"\n",
    ")"
   ]
  },
  {
   "cell_type": "code",
   "execution_count": 102,
   "id": "fallen-illness",
   "metadata": {},
   "outputs": [],
   "source": [
    "twitter_df.to_pickle(\"data/twitter_df.pkl\")"
   ]
  },
  {
   "cell_type": "code",
   "execution_count": null,
   "id": "sitting-posting",
   "metadata": {},
   "outputs": [],
   "source": []
  }
 ],
 "metadata": {
  "kernelspec": {
   "display_name": "Python 3",
   "language": "python",
   "name": "python3"
  },
  "language_info": {
   "codemirror_mode": {
    "name": "ipython",
    "version": 3
   },
   "file_extension": ".py",
   "mimetype": "text/x-python",
   "name": "python",
   "nbconvert_exporter": "python",
   "pygments_lexer": "ipython3",
   "version": "3.6.5"
  }
 },
 "nbformat": 4,
 "nbformat_minor": 5
}
